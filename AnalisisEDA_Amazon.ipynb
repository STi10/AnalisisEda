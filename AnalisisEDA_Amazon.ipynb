{
 "cells": [
  {
   "cell_type": "markdown",
   "id": "dbb5a4a1",
   "metadata": {},
   "source": [
    "# ANALISIS EDA AMAZON"
   ]
  },
  {
   "cell_type": "code",
   "execution_count": null,
   "id": "54553929",
   "metadata": {},
   "outputs": [],
   "source": []
  }
 ],
 "metadata": {
  "language_info": {
   "name": "python"
  }
 },
 "nbformat": 4,
 "nbformat_minor": 5
}
